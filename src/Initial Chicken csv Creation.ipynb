{
 "cells": [
  {
   "cell_type": "code",
   "execution_count": 1,
   "id": "229efd43",
   "metadata": {},
   "outputs": [],
   "source": [
    "#This is the main library we'll be using for this project.\n",
    "import csv"
   ]
  },
  {
   "cell_type": "code",
   "execution_count": 5,
   "id": "3407b390",
   "metadata": {},
   "outputs": [],
   "source": [
    "#generate some initial chicken data, we'll use this to populate the base list. Many of them will share data, but we can use this to test our ability to update chicken records later.\n",
    "chicken_data =[{'name': 'George', 'breed': 'Brahma', 'age': '2 Years', 'size': 'Small'}, \n",
    "               {'name': 'Henry', 'breed': 'Pekin Bantam', 'age': '2 years', 'size': 'Small'}, \n",
    "               {'name': 'George', 'breed': 'Brahma', 'age': '2 Years', 'size': 'Small'}, \n",
    "               {'name': 'Henry', 'breed': 'Pekin Bantam', 'age': '2 years', 'size': 'Small'}, \n",
    "               {'name': 'Henry', 'breed': 'Pekin Bantam', 'age': '2 years', 'size': 'Small'}, \n",
    "               {'name': 'Henry', 'breed': 'Pekin Bantam', 'age': '2 years', 'size': 'Small'}, \n",
    "               {'name': 'Henry', 'breed': 'Pekin Bantam', 'age': '2 years', 'size': 'Small'}]\n"
   ]
  },
  {
   "cell_type": "code",
   "execution_count": null,
   "id": "5fcb263b",
   "metadata": {},
   "outputs": [],
   "source": [
    "#This will define the names of the columns that we're going to use, this will be used later.\n",
    "column_names = ['name', 'breed', 'age', 'size']"
   ]
  },
  {
   "cell_type": "code",
   "execution_count": null,
   "id": "2b391dc5",
   "metadata": {},
   "outputs": [],
   "source": [
    "#This gives us the filename we'll be using.\n",
    "filename = \"chicken_records.csv\""
   ]
  },
  {
   "cell_type": "code",
   "execution_count": null,
   "id": "c5858a43",
   "metadata": {},
   "outputs": [],
   "source": [
    "#Finally, we can write all of this to our initial csv, which we will now be working on. \n",
    "with open(filename, 'w') as csvfile:\n",
    "\twriter = csv.DictWriter(csvfile, fieldnames = column_names)\n",
    "\twriter.writeheader()\n",
    "\twriter.writerows(chicken_data)"
   ]
  }
 ],
 "metadata": {
  "kernelspec": {
   "display_name": "Python 3",
   "language": "python",
   "name": "python3"
  },
  "language_info": {
   "codemirror_mode": {
    "name": "ipython",
    "version": 3
   },
   "file_extension": ".py",
   "mimetype": "text/x-python",
   "name": "python",
   "nbconvert_exporter": "python",
   "pygments_lexer": "ipython3",
   "version": "3.13.0"
  }
 },
 "nbformat": 4,
 "nbformat_minor": 5
}
