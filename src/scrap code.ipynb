{
 "cells": [
  {
   "cell_type": "code",
   "execution_count": null,
   "id": "20b18421",
   "metadata": {},
   "outputs": [],
   "source": [
    "if len(chicken_df.index) > location:\n",
    "  print(\"Valid selection.\")\n",
    "else:\n",
    "  print(\"Invalid selection.\")"
   ]
  },
  {
   "cell_type": "code",
   "execution_count": null,
   "id": "0edd3f90",
   "metadata": {},
   "outputs": [],
   "source": [
    "location = int(input(\"Which row would you like to update?\"))\n",
    "name = str(input(\"What is the chicken's new name?\"))\n",
    "breed = str(input(\"What is the chicken's new breed?\"))\n",
    "age = str(input(\"What is the chicken's new age? (Single number only)\")) + \" years\"\n",
    "size = str(input(\"What is the chicken's new size? (Small/Medium/Large)\"))"
   ]
  },
  {
   "cell_type": "code",
   "execution_count": null,
   "id": "07acc4b1",
   "metadata": {},
   "outputs": [],
   "source": [
    "# This will allow us to take user inputs on what information they would like to enter about the chicken.\n",
    "name = str(input(\"What is the chicken's name?\"))\n",
    "breed = str(input(\"What is the chicken's breed?\"))\n",
    "age = str(input(\"What is the chicken's age? (Single number only)\")) + \" years\"\n",
    "size = str(input(\"What is the chicken's size? (Small/Medium/Large)\"))"
   ]
  },
  {
   "cell_type": "code",
   "execution_count": null,
   "id": "a88362ee",
   "metadata": {},
   "outputs": [],
   "source": [
    "# With our dataframe uploaded, we can begin to interact with it via our menu!\n",
    "# We're going to utilise kernels in order to manipulate the csv without actually writing to it until we're ready to.\n",
    "chicken_df.loc[len(chicken_df)] = [\"Bob\", \"Brahma\", \"1 Years\", \"Large\"]\n",
    "print(chicken_df)\n",
    "# Now we have our method of updating our dataframe, we can now upgrade it to accept user inputs.\n",
    "# We're going to move to a different kernel to design this though."
   ]
  },
  {
   "cell_type": "code",
   "execution_count": null,
   "id": "4d5b5bfa",
   "metadata": {},
   "outputs": [],
   "source": [
    "# Next, let's look into updating an existing chicken record. There are two parts to this - we may want to update the whole chicken record, or just a specific part of one. \n",
    "# # As such, this will be executed in two parts. For this first part, we'll focus on updating the whole dataframe at once.\n",
    "# We'll reuse our input code from earlier, with an additional mode.\n",
    "location = int(input(\"Which row would you like to update?\"))\n",
    "name = str(input(\"What is the chicken's new name?\"))\n",
    "breed = str(input(\"What is the chicken's new breed?\"))\n",
    "age = str(input(\"What is the chicken's new age? (Single number only)\")) + \" years\"\n",
    "size = str(input(\"What is the chicken's new size? (Small/Medium/Large)\"))"
   ]
  },
  {
   "cell_type": "code",
   "execution_count": null,
   "id": "f13f5bbc",
   "metadata": {},
   "outputs": [],
   "source": [
    "# with this, we can now update specific rows! Of course, we can reuse this code to update just for specific values as well, if needs be - though this may result in overly complicated and ultimately redundant code.\n",
    "chicken_df.loc[location, 'name'] = name\n",
    "chicken_df.loc[location, 'breed'] = breed\n",
    "chicken_df.loc[location, 'age'] = age\n",
    "chicken_df.loc[location, 'size'] = size\n"
   ]
  },
  {
   "cell_type": "code",
   "execution_count": null,
   "id": "e63bf28f",
   "metadata": {},
   "outputs": [],
   "source": [
    "def cont():\n",
    "  print(\"Would you like to perform any additional actions?\")\n",
    "  confirm = input(\"Y/N\")\n",
    "  confirm = confirm.capitalize()\n",
    "  if confirm == \"N\":\n",
    "    print(\"Now exiting...\")\n",
    "  else:\n",
    "    print(\"Returning to main screen.\")\n",
    "    clear_output(wait=True)"
   ]
  }
 ],
 "metadata": {
  "language_info": {
   "name": "python"
  }
 },
 "nbformat": 4,
 "nbformat_minor": 5
}
